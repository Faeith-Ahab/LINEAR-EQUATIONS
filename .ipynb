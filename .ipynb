{
 "cells": [
  {
   "cell_type": "markdown",
   "metadata": {},
   "source": [
    "SOLVING SYSTEMS OF LINEAR EQUATIONS WITH NUMPY, A WORD PROBLEM.\n",
    "\n",
    "What is a linear equation?\n",
    "A linear equation is an algebraic equation of the form y=mx+b. involving only a constant and a first-order (linear) term, where m is the slope and b is the y-intercept.\n",
    "The general guideline to follow when solving systems of linear equation word problems is through writing algebraic expressions.\n",
    "1.\tDefine your variables. Since this is a system, there will be two or more variables. Read the problem and identify the unknown quantity. Select variables to represent the unknown quantities \n",
    "2.\tWrite your equations using the given information. Again, since this is a system, there will be two or more equations. \n",
    "3.\tSolve the system. This can be done using the elimination method, substitution method, or graphing.\n",
    "4.\tState your answer. A solution to a system of linear equations is a set of values for the variables which makes all the equations true.\n",
    "\n",
    "Substitution or elimination method. \n",
    "\n",
    "Scenario in writing.\n",
    "   A concert has 88 attendees. And draws 553 dollars in revenue from ticket sales.\n",
    "Each child’s ticket costs 4 dollars and an adult’s ticket costs 7 dollars. How many of each type of ticket were sold?\n",
    "Let c be number of children\n",
    "Let a be number of adults.\n",
    "State the system:\n",
    "c + a = 88\n",
    "4c + 7a = 553 \n",
    "\n",
    "Solve the equation for c.\n",
    "c + a = 88\n",
    "c + a – a = 88 – a \n",
    "c = 88 – a\n",
    "\n",
    "Plug this back into the other equation to solve for a. By isolating one variable in one equation. \n",
    "(Using substitution method)\n",
    "4c + 7a = 553\n",
    "4(c) + 7a = 553\n",
    "(our equation for c is c being equivalent to 88 – a) \n",
    "4(88 – a) + 7a   =  553\n",
    "352 – 4a + 7a    =   553\n",
    "352   + 3a       =   553\n",
    "352 -352 + 3a    =   553 – 352\n",
    "3a               =   201\n",
    "3a/3             =   201/3\n",
    "a                =   67       \n",
    "\n",
    "Plug in either initial equation system to solve for c.\n",
    "c =88 – a\n",
    "c = 88 – 67\n",
    "c = 21\n",
    "\n",
    "The solution to the word problem using linear equation is 21, 67.\n",
    "\n",
    "Solving word problems using a system in summary:\n",
    "1.\tDefine the variables.\n",
    "2.\tWrite two equations.\n",
    "3.\tSolve the system.\n",
    "4.\tState the answer.\n"
   ]
  },
  {
   "cell_type": "code",
   "execution_count": 4,
   "metadata": {},
   "outputs": [
    {
     "name": "stdout",
     "output_type": "stream",
     "text": [
      "The system of equations are:\n",
      "c + a = 88\n",
      "and\n",
      "4c + 7a = 553\n",
      "The solution to the linear equation using matrix method is :\n",
      "[c,a]= [21. 67.]\n"
     ]
    }
   ],
   "source": [
    "\n",
    "#Scenario in in Code\n",
    "\n",
    "#Import required modules\n",
    "import numpy as py\n",
    "\n",
    "#Display the system of linear equations\n",
    "print(\"The system of equations are:\")\n",
    "print('c + a = 88')\n",
    "print ('and')\n",
    "print('4c + 7a = 553')\n",
    "\n",
    "#Form the matrices from the equations\n",
    "X = py.array ([[1,1],[4,7]])\n",
    "Y = py.array([88,553])\n",
    "\n",
    "#Function call and result calculation\n",
    "D=py.linalg.solve(X,Y)\n",
    "\n",
    "#Display the result\n",
    "print(\"The solution to the linear equation using matrix method is :\")\n",
    "print(\"[c,a]=\",D)\n"
   ]
  }
 ],
 "metadata": {
  "kernelspec": {
   "display_name": "Python 3",
   "language": "python",
   "name": "python3"
  },
  "language_info": {
   "codemirror_mode": {
    "name": "ipython",
    "version": 3
   },
   "file_extension": ".py",
   "mimetype": "text/x-python",
   "name": "python",
   "nbconvert_exporter": "python",
   "pygments_lexer": "ipython3",
   "version": "3.11.4"
  }
 },
 "nbformat": 4,
 "nbformat_minor": 2
}
